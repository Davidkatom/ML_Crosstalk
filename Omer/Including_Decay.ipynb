{
 "cells": [
  {
   "cell_type": "code",
   "execution_count": 3,
   "id": "initial_id",
   "metadata": {
    "collapsed": true,
    "ExecuteTime": {
     "end_time": "2024-01-31T14:24:39.838206600Z",
     "start_time": "2024-01-31T14:24:39.605240600Z"
    }
   },
   "outputs": [
    {
     "name": "stdout",
     "output_type": "stream",
     "text": [
      "WARNING:tensorflow:From C:\\Users\\omerh\\AppData\\Local\\Programs\\Python\\Python310\\lib\\site-packages\\keras\\src\\backend.py:1398: The name tf.executing_eagerly_outside_functions is deprecated. Please use tf.compat.v1.executing_eagerly_outside_functions instead.\n"
     ]
    }
   ],
   "source": [
    "from pkg_ML_V1 import *\n",
    "\n",
    "train_df = pd.read_csv(\"Generated_Data/Qubits_4_TS_10_Shots_500.csv\")\n",
    "# test_df = pd.read_csv(\"Z_values_100.csv\")\n",
    "Output_columns = ['W_0', 'W_1', 'W_2','W_3','J_0','J_1','J_2']+['decay_0','decay_1','decay_2','decay_3']\n",
    "drop_out_columns = Output_columns\n",
    "\n",
    "Time_stamps_amount = 10\n",
    "Qubits_amount = 4\n",
    "Columns_per_time_stamp = 2 * Qubits_amount - 1  # Assuming we measure <z_i>, and <z_ij>. ij are neighbors.\n",
    "\n",
    "feature_columns = train_df.columns.drop(drop_out_columns)\n",
    "\n",
    "inputs = {column: tf.keras.layers.Input(shape=(1,), name=column) for column in feature_columns}\n",
    "concatenated_inputs = tf.keras.layers.concatenate(inputs.values())\n",
    "\n",
    "# Prepare training data\n",
    "train_features = {column: train_df[column] for column in inputs}\n",
    "train_labels = train_df[Output_columns]\n",
    "# Prepare test data\n",
    "# test_features = {column: test_df[column] for column in inputs}\n",
    "# test_labels = test_df[Output_columns]\n",
    "\n",
    "# Now, for the RNN, we define the time series data:\n",
    "\n",
    "\n",
    "input_shape = (Time_stamps_amount, Columns_per_time_stamp)  # 10 timestamps, each with 100 measurements\n",
    "inputs_sequential = tf.keras.layers.Input(shape=input_shape, name='sequential_input')\n",
    "\n",
    "reshape_shape = (-1, Time_stamps_amount, Columns_per_time_stamp)\n",
    "\n",
    "train_features_sequential = train_df[feature_columns].to_numpy().reshape(reshape_shape)\n",
    "train_labels_sequential = train_df[Output_columns]\n",
    "# test_features_sequential = test_df[feature_columns].to_numpy().reshape(reshape_shape)\n",
    "# test_labels_sequential = test_df[Output_columns]\n",
    "\n"
   ]
  },
  {
   "cell_type": "markdown",
   "source": [
    "Define the neural network create and train models\n",
    "==========="
   ],
   "metadata": {
    "collapsed": false
   },
   "id": "1f8d8edf23182a88"
  },
  {
   "cell_type": "code",
   "execution_count": 4,
   "outputs": [],
   "source": [
    "def create_relu_model(neurons_, learning_rate_, concatenated_inputs_):\n",
    "    hidden_layer_1 = tf.keras.layers.Dense(neurons_, activation='relu')(concatenated_inputs_)\n",
    "    hidden_layer_2 = tf.keras.layers.Dense(neurons_, activation='relu')(hidden_layer_1)\n",
    "    hidden_layer_3 = tf.keras.layers.Dense(neurons_, activation='relu')(hidden_layer_2)\n",
    "    hidden_layer_4 = tf.keras.layers.Dense(neurons_, activation='relu')(hidden_layer_3)\n",
    "    output = tf.keras.layers.Dense(len(Output_columns))(hidden_layer_4)\n",
    "\n",
    "    model = tf.keras.Model(inputs=inputs, outputs=output)\n",
    "    optimizer = tf.keras.optimizers.Adam(learning_rate=learning_rate_)\n",
    "    model.compile(optimizer=optimizer, loss='mean_squared_error', metrics=['mean_squared_error'])\n",
    "    print(\"Learning rate: \" + str(learning_rate_))\n",
    "    print(\"Amount of neurons: \" + str(neurons_))\n",
    "\n",
    "    return model\n",
    "\n",
    "\n",
    "def create_lstm_model(neurons, learning_rate, inputs):\n",
    "    x = tf.keras.layers.LSTM(neurons, return_sequences=True)(inputs)\n",
    "    x = tf.keras.layers.LSTM(neurons, return_sequences=True)(x)\n",
    "    x = tf.keras.layers.LSTM(neurons, return_sequences=True)(x)\n",
    "    x = tf.keras.layers.LSTM(neurons)(x)\n",
    "    x = tf.keras.layers.Dense(neurons, activation='relu')(x)\n",
    "    x = tf.keras.layers.Dense(neurons, activation='relu')(x)\n",
    "    outputs = tf.keras.layers.Dense(len(Output_columns))(x)  # Output layer with 3 units\n",
    "\n",
    "    model = tf.keras.Model(inputs=inputs, outputs=outputs)\n",
    "    model.compile(optimizer=tf.keras.optimizers.Adam(learning_rate=learning_rate),\n",
    "                  loss='mean_squared_error',\n",
    "                  metrics=['mean_squared_error'])\n",
    "    return model\n",
    "\n",
    "\n",
    "\n",
    "def create_bidirectional_lstm_model(neurons, learning_rate, inputs):\n",
    "    x = tf.keras.layers.Bidirectional(tf.keras.layers.LSTM(neurons, return_sequences=True))(inputs)\n",
    "    x = tf.keras.layers.Bidirectional(tf.keras.layers.LSTM(neurons, return_sequences=True))(x)\n",
    "    x = tf.keras.layers.Bidirectional(tf.keras.layers.LSTM(neurons, return_sequences=True))(x)\n",
    "    x = tf.keras.layers.Bidirectional(tf.keras.layers.LSTM(neurons, return_sequences=True))(x)\n",
    "    x = tf.keras.layers.Bidirectional(tf.keras.layers.LSTM(neurons))(x)\n",
    "    # x = tf.keras.layers.BatchNormalization()(x)\n",
    "    x = tf.keras.layers.Dense(neurons, activation='relu', kernel_regularizer=tf.keras.regularizers.l2(0.1))(x)\n",
    "    x = tf.keras.layers.Dense(neurons, activation='relu')(x)\n",
    "    x = tf.keras.layers.Dense(neurons, activation='relu')(x)\n",
    "    x = tf.keras.layers.Dense(neurons, activation='relu')(x)\n",
    "    outputs = tf.keras.layers.Dense(len(Output_columns))(x)  # Output layer with 3 units\n",
    "\n",
    "    model = tf.keras.Model(inputs=inputs, outputs=outputs)\n",
    "    model.compile(optimizer=tf.keras.optimizers.Adam(learning_rate=learning_rate),\n",
    "                  loss='mean_squared_error',\n",
    "                  metrics=['mean_squared_error'])\n",
    "    return model\n",
    "\n"
   ],
   "metadata": {
    "collapsed": false,
    "ExecuteTime": {
     "end_time": "2024-01-31T14:24:39.853795700Z",
     "start_time": "2024-01-31T14:24:39.838206600Z"
    }
   },
   "id": "72a8e6c197f5898c"
  },
  {
   "cell_type": "markdown",
   "source": [
    "Creating and Training the ML:\n",
    "==================="
   ],
   "metadata": {
    "collapsed": false
   },
   "id": "9cdf7c20497eb8e4"
  },
  {
   "cell_type": "code",
   "execution_count": 5,
   "outputs": [
    {
     "name": "stdout",
     "output_type": "stream",
     "text": [
      "batch size: 256\n",
      "Learning rate: 1e-05\n",
      "Amount of neurons: 512\n",
      "WARNING:tensorflow:From C:\\Users\\omerh\\AppData\\Local\\Programs\\Python\\Python310\\lib\\site-packages\\keras\\src\\utils\\tf_utils.py:492: The name tf.ragged.RaggedTensorValue is deprecated. Please use tf.compat.v1.ragged.RaggedTensorValue instead.\n",
      "WARNING:tensorflow:From C:\\Users\\omerh\\AppData\\Local\\Programs\\Python\\Python310\\lib\\site-packages\\keras\\src\\engine\\base_layer_utils.py:384: The name tf.executing_eagerly_outside_functions is deprecated. Please use tf.compat.v1.executing_eagerly_outside_functions instead.\n"
     ]
    }
   ],
   "source": [
    "learning_rate = 10 ** -4\n",
    "epochs = 1\n",
    "batch_size = 2 ** 6\n",
    "neurons = 2 ** 10\n",
    "print(\"batch size: \" + str(batch_size))\n",
    "model = create_relu_model(neurons, learning_rate, concatenated_inputs)\n",
    "\n",
    "history = train_model(model, train_features, train_labels,\n",
    "                      epochs, batch_size, validation_split=0.1)\n",
    "\n",
    "#training_func takes history and additional epochs as input and output the new history\n",
    "training_func = lambda  history_,additional_epochs_:train_more(history_, model, train_features, train_labels, additional_epochs_,\n",
    "               batch_size, 0.1)"
   ],
   "metadata": {
    "collapsed": false,
    "ExecuteTime": {
     "end_time": "2024-01-31T14:24:42.299580100Z",
     "start_time": "2024-01-31T14:24:39.853795700Z"
    }
   },
   "id": "b26cda90b42bae6b"
  },
  {
   "cell_type": "code",
   "execution_count": 6,
   "outputs": [
    {
     "data": {
      "text/plain": "<Figure size 640x480 with 1 Axes>",
      "image/png": "[encoded data removed]"
     },
     "metadata": {},
     "output_type": "display_data"
    }
   ],
   "source": [
    "\n",
    "\n",
    "list_of_metrics_to_plot = ['mean_squared_error', 'val_mean_squared_error']\n",
    "\n",
    "history = live_train(training_func,history,5,50,list_of_metrics_to_plot)\n"
   ],
   "metadata": {
    "collapsed": false
   },
   "id": "1855cfe4bdaaab04"
  },
  {
   "cell_type": "code",
   "execution_count": 7,
   "outputs": [
    {
     "name": "stdout",
     "output_type": "stream",
     "text": [
      "1.3598335981369019\n",
      "1.3493962287902832\n",
      "19.869384765625\n",
      "20.0233154296875\n"
     ]
    }
   ],
   "source": [
    "print(history[1]['loss'][len(history[1]['loss'])-1])\n",
    "print(history[1]['val_loss'][len(history[1]['val_loss'])-1])\n"
   ],
   "metadata": {
    "collapsed": false,
    "ExecuteTime": {
     "end_time": "2024-01-31T14:24:54.033367900Z",
     "start_time": "2024-01-31T14:24:53.986077600Z"
    }
   },
   "id": "8235e378ef6708e8"
  },
  {
   "cell_type": "markdown",
   "source": [
    "Alternative ML Models:\n",
    "=========="
   ],
   "metadata": {
    "collapsed": false
   },
   "id": "a7c66dbcc3257c65"
  },
  {
   "cell_type": "code",
   "execution_count": 8,
   "outputs": [
    {
     "name": "stdout",
     "output_type": "stream",
     "text": [
      "batch size: 1024\n",
      "number of neurons: 256\n"
     ]
    },
    {
     "ename": "NameError",
     "evalue": "name 'create_bidirectional_lstm_model' is not defined",
     "output_type": "error",
     "traceback": [
      "\u001B[1;31m---------------------------------------------------------------------------\u001B[0m",
      "\u001B[1;31mNameError\u001B[0m                                 Traceback (most recent call last)",
      "Cell \u001B[1;32mIn[8], line 7\u001B[0m\n\u001B[0;32m      5\u001B[0m \u001B[38;5;28mprint\u001B[39m(\u001B[38;5;124m\"\u001B[39m\u001B[38;5;124mbatch size: \u001B[39m\u001B[38;5;124m\"\u001B[39m \u001B[38;5;241m+\u001B[39m \u001B[38;5;28mstr\u001B[39m(batch_size))\n\u001B[0;32m      6\u001B[0m \u001B[38;5;28mprint\u001B[39m(\u001B[38;5;124m\"\u001B[39m\u001B[38;5;124mnumber of neurons: \u001B[39m\u001B[38;5;124m\"\u001B[39m \u001B[38;5;241m+\u001B[39m \u001B[38;5;28mstr\u001B[39m(neurons))\n\u001B[1;32m----> 7\u001B[0m model_lstm \u001B[38;5;241m=\u001B[39m \u001B[43mcreate_bidirectional_lstm_model\u001B[49m(neurons, learning_rate, inputs_sequential)\n\u001B[0;32m      9\u001B[0m history_lstm \u001B[38;5;241m=\u001B[39m train_model(model_lstm, train_features_sequential, train_labels_sequential,\n\u001B[0;32m     10\u001B[0m                            epochs, batch_size, validation_split\u001B[38;5;241m=\u001B[39m\u001B[38;5;241m0.1\u001B[39m)\n\u001B[0;32m     12\u001B[0m \u001B[38;5;66;03m#training_func takes history and additional epochs as input and output the new history\u001B[39;00m\n",
      "\u001B[1;31mNameError\u001B[0m: name 'create_bidirectional_lstm_model' is not defined"
     ]
    }
   ],
   "source": [
    "learning_rate = 10 ** -4\n",
    "epochs = 1\n",
    "batch_size = 2 ** 10\n",
    "neurons = 2 ** 8\n",
    "print(\"batch size: \" + str(batch_size))\n",
    "print(\"number of neurons: \" + str(neurons))\n",
    "model_lstm = create_bidirectional_lstm_model(neurons, learning_rate, inputs_sequential)\n",
    "\n",
    "history_lstm = train_model(model_lstm, train_features_sequential, train_labels_sequential,\n",
    "                      epochs, batch_size, validation_split=0.1)\n",
    "\n",
    "#training_func takes history and additional epochs as input and output the new history\n",
    "training_func = lambda  history_,additional_epochs_:train_more(history_, model_lstm, train_features_sequential, train_labels_sequential, additional_epochs_,\n",
    "               batch_size, 0.1)\n"
   ],
   "metadata": {
    "collapsed": false,
    "ExecuteTime": {
     "end_time": "2024-01-31T14:24:54.061053500Z",
     "start_time": "2024-01-31T14:24:54.017735500Z"
    }
   },
   "id": "23f78125a78ca42c"
  },
  {
   "cell_type": "code",
   "execution_count": null,
   "outputs": [],
   "source": [
    "list_of_metrics_to_plot = ['mean_squared_error', 'val_mean_squared_error']\n",
    "history_lstm = live_train(training_func,history_lstm,5,50,list_of_metrics_to_plot)\n"
   ],
   "metadata": {
    "collapsed": false,
    "ExecuteTime": {
     "start_time": "2024-01-31T14:24:54.048992900Z"
    }
   },
   "id": "73de89c2e08834bd"
  },
  {
   "cell_type": "code",
   "execution_count": null,
   "outputs": [],
   "source": [
    "print(history_lstm[1]['loss'][len(history_lstm[1]['loss'])-1])\n",
    "print(history_lstm[1]['val_loss'][len(history_lstm[1]['val_loss'])-1])"
   ],
   "metadata": {
    "collapsed": false,
    "ExecuteTime": {
     "end_time": "2024-01-31T14:24:54.068547900Z",
     "start_time": "2024-01-31T14:24:54.061053500Z"
    }
   },
   "id": "406cf41fb805b377"
  },
  {
   "cell_type": "code",
   "execution_count": null,
   "outputs": [],
   "source": [],
   "metadata": {
    "collapsed": false,
    "ExecuteTime": {
     "start_time": "2024-01-31T14:24:54.068547900Z"
    }
   },
   "id": "2757d80703ffee3a"
  }
 ],
 "metadata": {
  "kernelspec": {
   "display_name": "Python 3",
   "language": "python",
   "name": "python3"
  },
  "language_info": {
   "codemirror_mode": {
    "name": "ipython",
    "version": 2
   },
   "file_extension": ".py",
   "mimetype": "text/x-python",
   "name": "python",
   "nbconvert_exporter": "python",
   "pygments_lexer": "ipython2",
   "version": "2.7.6"
  }
 },
 "nbformat": 4,
 "nbformat_minor": 5
}
