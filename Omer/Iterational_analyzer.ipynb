{
 "cells": [
  {
   "cell_type": "code",
   "execution_count": 1,
   "id": "initial_id",
   "metadata": {
    "collapsed": true,
    "ExecuteTime": {
     "end_time": "2024-01-31T14:29:52.058515600Z",
     "start_time": "2024-01-31T14:29:47.912281300Z"
    }
   },
   "outputs": [
    {
     "name": "stdout",
     "output_type": "stream",
     "text": [
      "WARNING:tensorflow:From C:\\Users\\omerh\\AppData\\Local\\Programs\\Python\\Python310\\lib\\site-packages\\keras\\src\\losses.py:2976: The name tf.losses.sparse_softmax_cross_entropy is deprecated. Please use tf.compat.v1.losses.sparse_softmax_cross_entropy instead.\n",
      "Ready!\n"
     ]
    }
   ],
   "source": [
    "from pkg_ML_V1 import *\n"
   ]
  },
  {
   "cell_type": "code",
   "execution_count": null,
   "outputs": [],
   "source": [],
   "metadata": {
    "collapsed": false
   },
   "id": "1630c82a2e6b9d58"
  },
  {
   "cell_type": "code",
   "execution_count": null,
   "outputs": [],
   "source": [
    "\n",
    "\n",
    "# Specify the directory where the CSV files are located\n",
    "folder_path = 'Generated_Data'\n",
    "\n",
    "# Initialize a dictionary to store the parameters of each file\n",
    "file_parameters = {}\n",
    "\n",
    "# List all files in the directory\n",
    "for filename in os.listdir(folder_path):\n",
    "    if filename.endswith(\".csv\"):\n",
    "        # Attempt to match the filename pattern\n",
    "        match = re.match(r\"Qubits_(\\d+)_Lines_(\\d+)_TS_(\\d+)_Shots_(\\d+)_MeanDecay_(\\d+)\", filename)\n",
    "        if match:\n",
    "            # Extract parameters from the filename\n",
    "            qubits, lines, ts, shots, meandecay = match.groups()\n",
    "            \n",
    "            # Convert strings to integers\n",
    "            qubits = int(qubits)\n",
    "            lines = int(lines)\n",
    "            ts = int(ts)\n",
    "            shots = int(shots)\n",
    "            meandecay = int(meandecay)\n",
    "            \n",
    "            # Store parameters in the dictionary\n",
    "            file_parameters[filename] = {\n",
    "                'Qubits': qubits,\n",
    "                'Lines': lines,\n",
    "                'TS': ts,\n",
    "                'Shots': shots,\n",
    "                'MeanDecay': meandecay\n",
    "            }\n",
    "            \n",
    "            # Load the CSV file into a DataFrame (if needed)\n",
    "            file_path = os.path.join(folder_path, filename)\n",
    "            df = pd.read_csv(file_path)\n",
    "            \n",
    "            # Here you can process the DataFrame as needed\n",
    "            # ...\n",
    "\n",
    "# Now file_parameters dictionary contains all the extracted information\n",
    "print(file_parameters)\n"
   ],
   "metadata": {
    "collapsed": false
   },
   "id": "c5a234c2bf58e183"
  }
 ],
 "metadata": {
  "kernelspec": {
   "display_name": "Python 3",
   "language": "python",
   "name": "python3"
  },
  "language_info": {
   "codemirror_mode": {
    "name": "ipython",
    "version": 2
   },
   "file_extension": ".py",
   "mimetype": "text/x-python",
   "name": "python",
   "nbconvert_exporter": "python",
   "pygments_lexer": "ipython2",
   "version": "2.7.6"
  }
 },
 "nbformat": 4,
 "nbformat_minor": 5
}
